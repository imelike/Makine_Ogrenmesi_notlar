{
  "cells": [
    {
      "cell_type": "markdown",
      "metadata": {
        "id": "view-in-github",
        "colab_type": "text"
      },
      "source": [
        "<a href=\"https://colab.research.google.com/github/imelike/Makine_Ogrenmesi_notlar/blob/main/KNN_HF6.ipynb\" target=\"_parent\"><img src=\"https://colab.research.google.com/assets/colab-badge.svg\" alt=\"Open In Colab\"/></a>"
      ]
    },
    {
      "cell_type": "code",
      "execution_count": null,
      "metadata": {
        "id": "wabvNinw_bYZ"
      },
      "outputs": [],
      "source": [
        "import numpy as np\n",
        "import pandas as pd\n",
        "from sklearn.model_selection import train_test_split\n",
        "from sklearn.preprocessing import StandardScaler\n",
        "from sklearn.neighbors import KNeighborsClassifier\n",
        "from sklearn.metrics import confusion_matrix\n",
        "from sklearn.metrics import f1_score\n",
        "from sklearn.metrics import accuracy_score"
      ]
    },
    {
      "cell_type": "code",
      "execution_count": null,
      "metadata": {
        "id": "28N9QbaI_bYZ"
      },
      "outputs": [],
      "source": [
        "df=pd.read_csv('diabetes.csv')"
      ]
    },
    {
      "cell_type": "code",
      "execution_count": null,
      "metadata": {
        "id": "oNpUIny8_bYa"
      },
      "outputs": [],
      "source": [
        "X=df.drop('Outcome',axis=1)\n",
        "y=df['Outcome']"
      ]
    },
    {
      "cell_type": "code",
      "execution_count": null,
      "metadata": {
        "id": "0kxNeS9x_bYa"
      },
      "outputs": [],
      "source": [
        "X_train,X_test,y_train,y_test=train_test_split(X,y,test_size=0.2,random_state=1)"
      ]
    },
    {
      "cell_type": "code",
      "execution_count": null,
      "metadata": {
        "id": "pLnCpZ3u_bYa",
        "outputId": "4261cc56-b858-47d7-d4d6-2ca600bd7d91"
      },
      "outputs": [
        {
          "data": {
            "text/plain": [
              "(614, 8)"
            ]
          },
          "execution_count": 10,
          "metadata": {},
          "output_type": "execute_result"
        }
      ],
      "source": [
        "X_train.shape"
      ]
    },
    {
      "cell_type": "code",
      "execution_count": null,
      "metadata": {
        "id": "eX4iXlpn_bYa",
        "outputId": "026f3370-e005-41fb-a334-d2cc156bf639"
      },
      "outputs": [
        {
          "data": {
            "text/plain": [
              "KNeighborsClassifier(metric='euclidean', n_neighbors=27)"
            ]
          },
          "execution_count": 12,
          "metadata": {},
          "output_type": "execute_result"
        }
      ],
      "source": [
        "import math\n",
        "k=math.sqrt(len(X))\n",
        "knn=KNeighborsClassifier(n_neighbors=27,metric='euclidean')\n",
        "knn.fit(X_train,y_train)"
      ]
    },
    {
      "cell_type": "code",
      "execution_count": null,
      "metadata": {
        "id": "pTPtdkKf_bYa",
        "outputId": "62e9aa90-11da-4ecd-cedb-8e8db6b2dde4"
      },
      "outputs": [
        {
          "data": {
            "text/plain": [
              "0.7532467532467533"
            ]
          },
          "execution_count": 13,
          "metadata": {},
          "output_type": "execute_result"
        }
      ],
      "source": [
        "knn.score(X_test,y_test)"
      ]
    },
    {
      "cell_type": "code",
      "execution_count": null,
      "metadata": {
        "id": "rtIJOxr__bYb",
        "outputId": "e81dfa1a-ed61-45f1-97f7-a7ee5ee3d1b5"
      },
      "outputs": [
        {
          "data": {
            "text/plain": [
              "0.7671009771986971"
            ]
          },
          "execution_count": 14,
          "metadata": {},
          "output_type": "execute_result"
        }
      ],
      "source": [
        "knn.score(X_train,y_train)"
      ]
    },
    {
      "cell_type": "code",
      "execution_count": null,
      "metadata": {
        "id": "Cc8NJFDl_bYb",
        "outputId": "aee17682-340d-4430-e460-e8055ef9e372"
      },
      "outputs": [
        {
          "data": {
            "text/plain": [
              "array([[88, 11],\n",
              "       [27, 28]], dtype=int64)"
            ]
          },
          "execution_count": 15,
          "metadata": {},
          "output_type": "execute_result"
        }
      ],
      "source": [
        "y_pred=knn.predict(X_test)\n",
        "confusion_matrix(y_test,y_pred)"
      ]
    },
    {
      "cell_type": "code",
      "execution_count": null,
      "metadata": {
        "id": "7SO1C2-N_bYb",
        "outputId": "2997fb1d-6217-43ed-ff5a-7612633910a4"
      },
      "outputs": [
        {
          "name": "stdout",
          "output_type": "stream",
          "text": [
            "              precision    recall  f1-score   support\n",
            "\n",
            "           0       0.77      0.89      0.82        99\n",
            "           1       0.72      0.51      0.60        55\n",
            "\n",
            "    accuracy                           0.75       154\n",
            "   macro avg       0.74      0.70      0.71       154\n",
            "weighted avg       0.75      0.75      0.74       154\n",
            "\n"
          ]
        }
      ],
      "source": [
        "from sklearn.metrics import classification_report\n",
        "print(classification_report(y_test,y_pred))"
      ]
    },
    {
      "cell_type": "code",
      "execution_count": null,
      "metadata": {
        "id": "CU2IKAZc_bYb",
        "outputId": "e634c5bf-40a3-45be-b102-706c81f65941"
      },
      "outputs": [
        {
          "name": "stdout",
          "output_type": "stream",
          "text": [
            "k: 3  Score: 0.7402597402597403\n",
            "k: 5  Score: 0.7337662337662337\n",
            "k: 7  Score: 0.7597402597402597\n",
            "k: 9  Score: 0.7662337662337663\n",
            "k: 11  Score: 0.7467532467532467\n",
            "k: 13  Score: 0.7662337662337663\n",
            "k: 15  Score: 0.7857142857142857\n",
            "k: 17  Score: 0.7857142857142857\n",
            "k: 19  Score: 0.7727272727272727\n",
            "k: 21  Score: 0.7662337662337663\n",
            "k: 23  Score: 0.7662337662337663\n",
            "k: 25  Score: 0.7532467532467533\n",
            "k: 27  Score: 0.7532467532467533\n",
            "k: 29  Score: 0.7662337662337663\n",
            "k: 31  Score: 0.7727272727272727\n",
            "k: 33  Score: 0.7597402597402597\n",
            "k: 35  Score: 0.7597402597402597\n",
            "k: 37  Score: 0.7597402597402597\n",
            "k: 39  Score: 0.7532467532467533\n",
            "k: 41  Score: 0.7597402597402597\n",
            "k: 43  Score: 0.7597402597402597\n",
            "k: 45  Score: 0.7597402597402597\n",
            "k: 47  Score: 0.7597402597402597\n",
            "k: 49  Score: 0.7597402597402597\n",
            "k: 51  Score: 0.7467532467532467\n",
            "k: 53  Score: 0.7532467532467533\n",
            "k: 55  Score: 0.7467532467532467\n",
            "k: 57  Score: 0.7532467532467533\n",
            "k: 59  Score: 0.7402597402597403\n",
            "k: 61  Score: 0.7402597402597403\n",
            "k: 63  Score: 0.7337662337662337\n",
            "k: 65  Score: 0.7532467532467533\n",
            "k: 67  Score: 0.7532467532467533\n",
            "k: 69  Score: 0.7532467532467533\n",
            "k: 71  Score: 0.7467532467532467\n",
            "k: 73  Score: 0.7467532467532467\n",
            "k: 75  Score: 0.7532467532467533\n",
            "k: 77  Score: 0.7467532467532467\n",
            "k: 79  Score: 0.7467532467532467\n",
            "k: 81  Score: 0.7467532467532467\n",
            "k: 83  Score: 0.7467532467532467\n",
            "k: 85  Score: 0.7467532467532467\n",
            "k: 87  Score: 0.7337662337662337\n",
            "k: 89  Score: 0.7337662337662337\n",
            "k: 91  Score: 0.7467532467532467\n",
            "k: 93  Score: 0.7402597402597403\n",
            "k: 95  Score: 0.7337662337662337\n",
            "k: 97  Score: 0.7207792207792207\n",
            "k: 99  Score: 0.7272727272727273\n"
          ]
        }
      ],
      "source": [
        "for k in range(3,101,2):\n",
        "    knn=KNeighborsClassifier(n_neighbors=k,metric='euclidean')\n",
        "    knn.fit(X_train,y_train)\n",
        "    print(\"k:\",k,\" Score:\",knn.score(X_test,y_test))"
      ]
    },
    {
      "cell_type": "code",
      "execution_count": null,
      "metadata": {
        "id": "EFyZ-mHk_bYb",
        "outputId": "114362e6-0ca4-4160-d372-735c28f4a348"
      },
      "outputs": [
        {
          "data": {
            "text/plain": [
              "array([1, 0, 0, 0, 0, 0, 0, 0, 0, 0, 0, 0, 1, 1, 0, 1, 0, 0, 0, 0, 0, 0,\n",
              "       1, 0, 0, 0, 0, 1, 0, 0, 0, 0, 0, 1, 0, 1, 0, 0, 0, 0, 0, 0, 0, 0,\n",
              "       0, 0, 1, 1, 0, 0, 0, 0, 1, 0, 0, 0, 1, 0, 0, 0, 1, 0, 1, 0, 0, 0,\n",
              "       0, 0, 0, 1, 1, 1, 1, 0, 1, 0, 1, 0, 0, 1, 0, 0, 0, 0, 0, 1, 0, 0,\n",
              "       1, 0, 1, 0, 0, 0, 1, 1, 0, 0, 0, 0, 0, 0, 1, 0, 0, 0, 1, 1, 0, 0,\n",
              "       1, 0, 1, 0, 0, 0, 0, 1, 0, 0, 0, 1, 0, 0, 0, 0, 0, 0, 1, 0, 1, 0,\n",
              "       1, 0, 0, 0, 0, 0, 0, 0, 1, 0, 0, 1, 0, 0, 0, 0, 0, 0, 0, 1, 0, 0],\n",
              "      dtype=int64)"
            ]
          },
          "execution_count": 18,
          "metadata": {},
          "output_type": "execute_result"
        }
      ],
      "source": [
        "y_pred"
      ]
    },
    {
      "cell_type": "code",
      "execution_count": null,
      "metadata": {
        "id": "D17ZzyHf_bYb",
        "outputId": "e9402d66-3f1f-4efd-b49e-843cd330507f"
      },
      "outputs": [
        {
          "data": {
            "text/html": [
              "<div>\n",
              "<style scoped>\n",
              "    .dataframe tbody tr th:only-of-type {\n",
              "        vertical-align: middle;\n",
              "    }\n",
              "\n",
              "    .dataframe tbody tr th {\n",
              "        vertical-align: top;\n",
              "    }\n",
              "\n",
              "    .dataframe thead th {\n",
              "        text-align: right;\n",
              "    }\n",
              "</style>\n",
              "<table border=\"1\" class=\"dataframe\">\n",
              "  <thead>\n",
              "    <tr style=\"text-align: right;\">\n",
              "      <th></th>\n",
              "      <th>sepal_length</th>\n",
              "      <th>sepal_width</th>\n",
              "      <th>petal_length</th>\n",
              "      <th>petal_width</th>\n",
              "      <th>species</th>\n",
              "    </tr>\n",
              "  </thead>\n",
              "  <tbody>\n",
              "    <tr>\n",
              "      <th>0</th>\n",
              "      <td>5.1</td>\n",
              "      <td>3.5</td>\n",
              "      <td>1.4</td>\n",
              "      <td>0.2</td>\n",
              "      <td>setosa</td>\n",
              "    </tr>\n",
              "    <tr>\n",
              "      <th>1</th>\n",
              "      <td>4.9</td>\n",
              "      <td>3.0</td>\n",
              "      <td>1.4</td>\n",
              "      <td>0.2</td>\n",
              "      <td>setosa</td>\n",
              "    </tr>\n",
              "    <tr>\n",
              "      <th>2</th>\n",
              "      <td>4.7</td>\n",
              "      <td>3.2</td>\n",
              "      <td>1.3</td>\n",
              "      <td>0.2</td>\n",
              "      <td>setosa</td>\n",
              "    </tr>\n",
              "    <tr>\n",
              "      <th>3</th>\n",
              "      <td>4.6</td>\n",
              "      <td>3.1</td>\n",
              "      <td>1.5</td>\n",
              "      <td>0.2</td>\n",
              "      <td>setosa</td>\n",
              "    </tr>\n",
              "    <tr>\n",
              "      <th>4</th>\n",
              "      <td>5.0</td>\n",
              "      <td>3.6</td>\n",
              "      <td>1.4</td>\n",
              "      <td>0.2</td>\n",
              "      <td>setosa</td>\n",
              "    </tr>\n",
              "  </tbody>\n",
              "</table>\n",
              "</div>"
            ],
            "text/plain": [
              "   sepal_length  sepal_width  petal_length  petal_width species\n",
              "0           5.1          3.5           1.4          0.2  setosa\n",
              "1           4.9          3.0           1.4          0.2  setosa\n",
              "2           4.7          3.2           1.3          0.2  setosa\n",
              "3           4.6          3.1           1.5          0.2  setosa\n",
              "4           5.0          3.6           1.4          0.2  setosa"
            ]
          },
          "execution_count": 19,
          "metadata": {},
          "output_type": "execute_result"
        }
      ],
      "source": [
        "df=pd.read_csv('iris.csv')\n",
        "df.head()"
      ]
    },
    {
      "cell_type": "code",
      "execution_count": null,
      "metadata": {
        "id": "99uU-NoF_bYb",
        "outputId": "9f08d916-d61d-4a8c-ac15-1b69e8bca458"
      },
      "outputs": [
        {
          "data": {
            "text/plain": [
              "(150, 4)"
            ]
          },
          "execution_count": 28,
          "metadata": {},
          "output_type": "execute_result"
        }
      ],
      "source": [
        "X=df.drop('species',axis=1)\n",
        "y=df['species']\n",
        "X.shape"
      ]
    },
    {
      "cell_type": "code",
      "execution_count": null,
      "metadata": {
        "id": "p_PZzW7W_bYc"
      },
      "outputs": [],
      "source": [
        "X_train,X_test,y_train,y_test=train_test_split(X,y,test_size=0.2,random_state=1)"
      ]
    },
    {
      "cell_type": "code",
      "execution_count": null,
      "metadata": {
        "id": "V1sV7WPY_bYc",
        "outputId": "b53484cd-2233-4df4-dd4e-2e1ba3abcec7"
      },
      "outputs": [
        {
          "name": "stdout",
          "output_type": "stream",
          "text": [
            "k: 3  Score: 1.0\n",
            "k: 5  Score: 1.0\n",
            "k: 7  Score: 0.9666666666666667\n",
            "k: 9  Score: 0.9666666666666667\n",
            "k: 11  Score: 0.9666666666666667\n",
            "k: 13  Score: 0.9666666666666667\n",
            "k: 15  Score: 0.9666666666666667\n",
            "k: 17  Score: 0.9666666666666667\n",
            "k: 19  Score: 0.9666666666666667\n",
            "k: 21  Score: 0.9666666666666667\n",
            "k: 23  Score: 0.9666666666666667\n",
            "k: 25  Score: 0.9666666666666667\n",
            "k: 27  Score: 0.9666666666666667\n",
            "k: 29  Score: 0.9666666666666667\n",
            "k: 31  Score: 0.9666666666666667\n",
            "k: 33  Score: 0.9666666666666667\n",
            "k: 35  Score: 0.9666666666666667\n",
            "k: 37  Score: 0.9666666666666667\n",
            "k: 39  Score: 0.9666666666666667\n",
            "k: 41  Score: 0.9666666666666667\n",
            "k: 43  Score: 0.9666666666666667\n",
            "k: 45  Score: 0.9666666666666667\n",
            "k: 47  Score: 0.9666666666666667\n",
            "k: 49  Score: 0.9333333333333333\n",
            "k: 51  Score: 0.9333333333333333\n",
            "k: 53  Score: 0.9333333333333333\n",
            "k: 55  Score: 0.9\n",
            "k: 57  Score: 0.9\n",
            "k: 59  Score: 0.9\n",
            "k: 61  Score: 0.9\n",
            "k: 63  Score: 0.9\n",
            "k: 65  Score: 0.9\n",
            "k: 67  Score: 0.9\n",
            "k: 69  Score: 0.8\n",
            "k: 71  Score: 0.8333333333333334\n",
            "k: 73  Score: 0.8333333333333334\n",
            "k: 75  Score: 0.6666666666666666\n",
            "k: 77  Score: 0.6333333333333333\n",
            "k: 79  Score: 0.6\n",
            "k: 81  Score: 0.6\n",
            "k: 83  Score: 0.5666666666666667\n",
            "k: 85  Score: 0.5666666666666667\n",
            "k: 87  Score: 0.5666666666666667\n",
            "k: 89  Score: 0.5666666666666667\n",
            "k: 91  Score: 0.5666666666666667\n",
            "k: 93  Score: 0.5666666666666667\n",
            "k: 95  Score: 0.5666666666666667\n",
            "k: 97  Score: 0.5666666666666667\n",
            "k: 99  Score: 0.5666666666666667\n"
          ]
        }
      ],
      "source": [
        "for k in range(3,101,2):\n",
        "    knn=KNeighborsClassifier(n_neighbors=k,metric='euclidean')\n",
        "    knn.fit(X_train,y_train)\n",
        "    print(\"k:\",k,\" Score:\",knn.score(X_test,y_test))"
      ]
    },
    {
      "cell_type": "code",
      "execution_count": null,
      "metadata": {
        "id": "2hnbLomR_bYc"
      },
      "outputs": [],
      "source": [
        "knn=KNeighborsClassifier(n_neighbors=3,metric='euclidean')\n",
        "knn.fit(X_train,y_train)\n",
        "y_pred=knn.predict(X_test)"
      ]
    },
    {
      "cell_type": "code",
      "execution_count": null,
      "metadata": {
        "id": "N_Rq7u0b_bYc",
        "outputId": "b9fcccce-27dc-44c5-89aa-054a58412a77"
      },
      "outputs": [
        {
          "name": "stdout",
          "output_type": "stream",
          "text": [
            "              precision    recall  f1-score   support\n",
            "\n",
            "      setosa       1.00      1.00      1.00        11\n",
            "  versicolor       1.00      1.00      1.00        13\n",
            "   virginica       1.00      1.00      1.00         6\n",
            "\n",
            "    accuracy                           1.00        30\n",
            "   macro avg       1.00      1.00      1.00        30\n",
            "weighted avg       1.00      1.00      1.00        30\n",
            "\n"
          ]
        }
      ],
      "source": [
        "print(classification_report(y_test,y_pred))"
      ]
    },
    {
      "cell_type": "code",
      "execution_count": null,
      "metadata": {
        "id": "TvbJ1Jek_bYc",
        "outputId": "6024ac1c-7210-46e0-c5d5-369a4fb5448c"
      },
      "outputs": [
        {
          "name": "stdout",
          "output_type": "stream",
          "text": [
            "0.5315586797869364\n"
          ]
        }
      ],
      "source": [
        "from sklearn.model_selection import KFold\n",
        "from sklearn.model_selection import cross_val_score,cross_val_predict\n",
        "cv=KFold(n_splits=3,random_state=1,shuffle=True)\n",
        "\n",
        "knn=KNeighborsClassifier(n_neighbors=3,metric='euclidean')\n",
        "\n",
        "scores=cross_val_score(knn,X,y,scoring='recall',cv=cv)\n",
        "\n",
        "print(np.mean(scores))"
      ]
    },
    {
      "cell_type": "code",
      "execution_count": null,
      "metadata": {
        "id": "XnraadaK_bYc",
        "outputId": "9aa63de9-4a08-464a-f390-f26301f379cf"
      },
      "outputs": [
        {
          "name": "stdout",
          "output_type": "stream",
          "text": [
            "[0.52173913 0.57831325 0.49462366]\n"
          ]
        }
      ],
      "source": [
        "print(scores)"
      ]
    },
    {
      "cell_type": "code",
      "execution_count": null,
      "metadata": {
        "id": "q_2vp0hR_bYc"
      },
      "outputs": [],
      "source": [
        "pred=cross_val_predict(knn,X,y,cv=cv)"
      ]
    },
    {
      "cell_type": "code",
      "execution_count": null,
      "metadata": {
        "id": "OyQh-0z1_bYc",
        "outputId": "f5136e14-c4ef-4b71-b089-bd5d4a14385e"
      },
      "outputs": [
        {
          "data": {
            "text/plain": [
              "array([0, 0, 1, 0, 1, 0, 0, 0, 1, 0, 0, 1, 0, 1, 1, 0, 1, 0, 0, 0, 1, 0,\n",
              "       1, 1, 1, 0, 0, 0, 1, 0, 1, 0, 0, 0, 1, 0, 1, 0, 0, 0, 1, 1, 0, 1,\n",
              "       1, 1, 1, 0, 0, 0, 0, 0, 0, 1, 1, 0, 1, 1, 1, 0, 0, 0, 0, 0, 1, 0,\n",
              "       0, 0, 0, 1, 0, 1, 0, 1, 0, 1, 0, 0, 1, 0, 0, 0, 0, 0, 1, 0, 0, 0,\n",
              "       0, 0, 0, 0, 0, 0, 0, 1, 0, 0, 0, 1, 1, 1, 0, 0, 0, 0, 0, 0, 0, 0,\n",
              "       1, 1, 0, 0, 1, 1, 0, 0, 0, 0, 0, 0, 0, 0, 0, 0, 0, 0, 1, 0, 1, 0,\n",
              "       1, 0, 0, 0, 0, 0, 1, 0, 1, 1, 0, 1, 0, 0, 0, 0, 0, 0, 0, 0, 1, 1,\n",
              "       0, 0, 0, 0, 0, 0, 1, 0, 0, 0, 0, 1, 1, 0, 0, 0, 0, 0, 0, 0, 0, 1,\n",
              "       0, 1, 0, 0, 0, 0, 1, 0, 1, 1, 1, 0, 0, 1, 0, 1, 1, 1, 0, 0, 0, 0,\n",
              "       0, 0, 0, 0, 0, 0, 0, 0, 1, 1, 0, 1, 0, 0, 1, 0, 0, 0, 0, 0, 0, 1,\n",
              "       1, 0, 0, 0, 0, 0, 0, 1, 1, 1, 0, 0, 0, 1, 0, 1, 1, 1, 1, 0, 0, 0,\n",
              "       0, 0, 0, 0, 1, 1, 1, 0, 1, 1, 0, 0, 0, 0, 1, 0, 1, 1, 1, 1, 0, 1,\n",
              "       0, 0, 1, 0, 0, 1, 0, 0, 0, 0, 0, 0, 0, 0, 0, 0, 0, 1, 1, 1, 0, 1,\n",
              "       1, 1, 0, 0, 0, 0, 0, 0, 0, 0, 0, 0, 0, 0, 1, 0, 0, 0, 1, 0, 1, 0,\n",
              "       0, 0, 0, 0, 0, 0, 1, 0, 0, 1, 0, 1, 0, 0, 0, 1, 0, 1, 0, 1, 0, 0,\n",
              "       1, 0, 1, 1, 0, 1, 0, 1, 1, 0, 0, 0, 1, 0, 0, 1, 0, 0, 0, 0, 0, 0,\n",
              "       0, 0, 0, 1, 1, 1, 0, 1, 1, 0, 1, 0, 0, 0, 0, 0, 0, 0, 1, 0, 0, 0,\n",
              "       1, 0, 0, 0, 1, 0, 0, 0, 1, 0, 0, 0, 1, 1, 1, 0, 0, 1, 0, 0, 1, 0,\n",
              "       0, 0, 0, 1, 0, 1, 0, 0, 1, 0, 1, 0, 1, 1, 1, 1, 0, 0, 0, 1, 0, 0,\n",
              "       0, 0, 0, 0, 0, 0, 0, 1, 0, 1, 0, 1, 1, 0, 0, 1, 0, 1, 1, 0, 0, 0,\n",
              "       1, 0, 0, 1, 0, 1, 0, 0, 0, 0, 0, 0, 0, 0, 0, 1, 1, 0, 1, 0, 0, 0,\n",
              "       0, 0, 0, 0, 0, 0, 0, 1, 0, 0, 0, 1, 0, 1, 0, 0, 1, 0, 0, 0, 0, 0,\n",
              "       1, 0, 1, 1, 0, 1, 0, 0, 0, 0, 0, 1, 0, 0, 1, 1, 0, 0, 0, 0, 0, 0,\n",
              "       1, 1, 0, 0, 1, 0, 0, 0, 0, 1, 1, 1, 0, 1, 0, 0, 0, 1, 1, 0, 0, 0,\n",
              "       0, 0, 0, 0, 0, 0, 0, 1, 0, 0, 0, 1, 0, 0, 0, 0, 0, 1, 1, 1, 1, 1,\n",
              "       0, 0, 0, 0, 0, 0, 0, 0, 1, 0, 1, 1, 0, 0, 0, 0, 0, 0, 1, 0, 0, 0,\n",
              "       0, 0, 1, 0, 0, 0, 1, 1, 0, 0, 0, 1, 0, 0, 0, 0, 1, 0, 1, 0, 0, 0,\n",
              "       0, 1, 0, 0, 1, 0, 1, 0, 1, 0, 1, 0, 1, 0, 0, 0, 1, 1, 0, 0, 1, 0,\n",
              "       0, 0, 0, 1, 0, 0, 1, 0, 0, 0, 0, 1, 1, 0, 0, 0, 0, 1, 0, 1, 0, 0,\n",
              "       0, 0, 0, 0, 1, 0, 0, 1, 1, 1, 1, 0, 0, 0, 1, 0, 0, 1, 0, 0, 0, 0,\n",
              "       1, 1, 1, 0, 1, 0, 0, 1, 0, 1, 1, 0, 0, 1, 0, 1, 1, 0, 0, 0, 0, 1,\n",
              "       0, 0, 0, 0, 0, 0, 1, 1, 0, 1, 0, 0, 0, 1, 1, 1, 0, 0, 0, 0, 1, 1,\n",
              "       0, 0, 0, 1, 1, 0, 1, 1, 0, 0, 0, 0, 1, 0, 1, 0, 0, 0, 1, 1, 0, 1,\n",
              "       0, 0, 1, 0, 0, 0, 0, 0, 0, 0, 0, 0, 0, 1, 1, 0, 0, 0, 1, 1, 0, 0,\n",
              "       1, 1, 0, 1, 0, 1, 1, 0, 1, 1, 0, 1, 0, 1, 0, 1, 0, 0, 1, 0],\n",
              "      dtype=int64)"
            ]
          },
          "execution_count": 52,
          "metadata": {},
          "output_type": "execute_result"
        }
      ],
      "source": [
        "pred"
      ]
    },
    {
      "cell_type": "code",
      "execution_count": null,
      "metadata": {
        "id": "D5yBizgb_bYc",
        "outputId": "d51f04a5-28d6-4eb7-da35-2de971982e9a"
      },
      "outputs": [
        {
          "name": "stdout",
          "output_type": "stream",
          "text": [
            "              precision    recall  f1-score   support\n",
            "\n",
            "           0       0.79      0.90      0.84        99\n",
            "           1       0.76      0.56      0.65        55\n",
            "\n",
            "    accuracy                           0.78       154\n",
            "   macro avg       0.77      0.73      0.74       154\n",
            "weighted avg       0.78      0.78      0.77       154\n",
            "\n"
          ]
        }
      ],
      "source": [
        "from sklearn.linear_model import LogisticRegression\n",
        "\n",
        "log=LogisticRegression(max_iter=200)\n",
        "log.fit(X_train,y_train)\n",
        "y_pred=log.predict(X_test)\n",
        "print(classification_report(y_test,y_pred))"
      ]
    },
    {
      "cell_type": "code",
      "execution_count": null,
      "metadata": {
        "id": "VRwHEiiO_bYc",
        "outputId": "750d4c76-4b28-4c04-f31f-cce57b0f4492"
      },
      "outputs": [
        {
          "name": "stderr",
          "output_type": "stream",
          "text": [
            "C:\\Users\\mf\\anaconda3\\lib\\site-packages\\sklearn\\model_selection\\_validation.py:548: FitFailedWarning: Estimator fit failed. The score on this train-test partition for these parameters will be set to nan. Details: \n",
            "Traceback (most recent call last):\n",
            "  File \"C:\\Users\\mf\\anaconda3\\lib\\site-packages\\sklearn\\model_selection\\_validation.py\", line 531, in _fit_and_score\n",
            "    estimator.fit(X_train, y_train, **fit_params)\n",
            "  File \"C:\\Users\\mf\\anaconda3\\lib\\site-packages\\sklearn\\linear_model\\_logistic.py\", line 1304, in fit\n",
            "    solver = _check_solver(self.solver, self.penalty, self.dual)\n",
            "  File \"C:\\Users\\mf\\anaconda3\\lib\\site-packages\\sklearn\\linear_model\\_logistic.py\", line 442, in _check_solver\n",
            "    raise ValueError(\"Solver %s supports only 'l2' or 'none' penalties, \"\n",
            "ValueError: Solver lbfgs supports only 'l2' or 'none' penalties, got l1 penalty.\n",
            "\n",
            "  warnings.warn(\"Estimator fit failed. The score on this train-test\"\n",
            "C:\\Users\\mf\\anaconda3\\lib\\site-packages\\sklearn\\model_selection\\_validation.py:548: FitFailedWarning: Estimator fit failed. The score on this train-test partition for these parameters will be set to nan. Details: \n",
            "Traceback (most recent call last):\n",
            "  File \"C:\\Users\\mf\\anaconda3\\lib\\site-packages\\sklearn\\model_selection\\_validation.py\", line 531, in _fit_and_score\n",
            "    estimator.fit(X_train, y_train, **fit_params)\n",
            "  File \"C:\\Users\\mf\\anaconda3\\lib\\site-packages\\sklearn\\linear_model\\_logistic.py\", line 1304, in fit\n",
            "    solver = _check_solver(self.solver, self.penalty, self.dual)\n",
            "  File \"C:\\Users\\mf\\anaconda3\\lib\\site-packages\\sklearn\\linear_model\\_logistic.py\", line 442, in _check_solver\n",
            "    raise ValueError(\"Solver %s supports only 'l2' or 'none' penalties, \"\n",
            "ValueError: Solver lbfgs supports only 'l2' or 'none' penalties, got l1 penalty.\n",
            "\n",
            "  warnings.warn(\"Estimator fit failed. The score on this train-test\"\n",
            "C:\\Users\\mf\\anaconda3\\lib\\site-packages\\sklearn\\model_selection\\_validation.py:548: FitFailedWarning: Estimator fit failed. The score on this train-test partition for these parameters will be set to nan. Details: \n",
            "Traceback (most recent call last):\n",
            "  File \"C:\\Users\\mf\\anaconda3\\lib\\site-packages\\sklearn\\model_selection\\_validation.py\", line 531, in _fit_and_score\n",
            "    estimator.fit(X_train, y_train, **fit_params)\n",
            "  File \"C:\\Users\\mf\\anaconda3\\lib\\site-packages\\sklearn\\linear_model\\_logistic.py\", line 1304, in fit\n",
            "    solver = _check_solver(self.solver, self.penalty, self.dual)\n",
            "  File \"C:\\Users\\mf\\anaconda3\\lib\\site-packages\\sklearn\\linear_model\\_logistic.py\", line 442, in _check_solver\n",
            "    raise ValueError(\"Solver %s supports only 'l2' or 'none' penalties, \"\n",
            "ValueError: Solver lbfgs supports only 'l2' or 'none' penalties, got l1 penalty.\n",
            "\n",
            "  warnings.warn(\"Estimator fit failed. The score on this train-test\"\n",
            "C:\\Users\\mf\\anaconda3\\lib\\site-packages\\sklearn\\model_selection\\_validation.py:548: FitFailedWarning: Estimator fit failed. The score on this train-test partition for these parameters will be set to nan. Details: \n",
            "Traceback (most recent call last):\n",
            "  File \"C:\\Users\\mf\\anaconda3\\lib\\site-packages\\sklearn\\model_selection\\_validation.py\", line 531, in _fit_and_score\n",
            "    estimator.fit(X_train, y_train, **fit_params)\n",
            "  File \"C:\\Users\\mf\\anaconda3\\lib\\site-packages\\sklearn\\linear_model\\_logistic.py\", line 1304, in fit\n",
            "    solver = _check_solver(self.solver, self.penalty, self.dual)\n",
            "  File \"C:\\Users\\mf\\anaconda3\\lib\\site-packages\\sklearn\\linear_model\\_logistic.py\", line 442, in _check_solver\n",
            "    raise ValueError(\"Solver %s supports only 'l2' or 'none' penalties, \"\n",
            "ValueError: Solver lbfgs supports only 'l2' or 'none' penalties, got l1 penalty.\n",
            "\n",
            "  warnings.warn(\"Estimator fit failed. The score on this train-test\"\n",
            "C:\\Users\\mf\\anaconda3\\lib\\site-packages\\sklearn\\model_selection\\_validation.py:548: FitFailedWarning: Estimator fit failed. The score on this train-test partition for these parameters will be set to nan. Details: \n",
            "Traceback (most recent call last):\n",
            "  File \"C:\\Users\\mf\\anaconda3\\lib\\site-packages\\sklearn\\model_selection\\_validation.py\", line 531, in _fit_and_score\n",
            "    estimator.fit(X_train, y_train, **fit_params)\n",
            "  File \"C:\\Users\\mf\\anaconda3\\lib\\site-packages\\sklearn\\linear_model\\_logistic.py\", line 1304, in fit\n",
            "    solver = _check_solver(self.solver, self.penalty, self.dual)\n",
            "  File \"C:\\Users\\mf\\anaconda3\\lib\\site-packages\\sklearn\\linear_model\\_logistic.py\", line 442, in _check_solver\n",
            "    raise ValueError(\"Solver %s supports only 'l2' or 'none' penalties, \"\n",
            "ValueError: Solver lbfgs supports only 'l2' or 'none' penalties, got l1 penalty.\n",
            "\n",
            "  warnings.warn(\"Estimator fit failed. The score on this train-test\"\n",
            "C:\\Users\\mf\\anaconda3\\lib\\site-packages\\sklearn\\model_selection\\_validation.py:548: FitFailedWarning: Estimator fit failed. The score on this train-test partition for these parameters will be set to nan. Details: \n",
            "Traceback (most recent call last):\n",
            "  File \"C:\\Users\\mf\\anaconda3\\lib\\site-packages\\sklearn\\model_selection\\_validation.py\", line 531, in _fit_and_score\n",
            "    estimator.fit(X_train, y_train, **fit_params)\n",
            "  File \"C:\\Users\\mf\\anaconda3\\lib\\site-packages\\sklearn\\linear_model\\_logistic.py\", line 1304, in fit\n",
            "    solver = _check_solver(self.solver, self.penalty, self.dual)\n",
            "  File \"C:\\Users\\mf\\anaconda3\\lib\\site-packages\\sklearn\\linear_model\\_logistic.py\", line 442, in _check_solver\n",
            "    raise ValueError(\"Solver %s supports only 'l2' or 'none' penalties, \"\n",
            "ValueError: Solver lbfgs supports only 'l2' or 'none' penalties, got l1 penalty.\n",
            "\n",
            "  warnings.warn(\"Estimator fit failed. The score on this train-test\"\n"
          ]
        },
        {
          "name": "stdout",
          "output_type": "stream",
          "text": [
            "{'C': 0.01, 'penalty': 'l2'}\n"
          ]
        }
      ],
      "source": [
        "from sklearn.model_selection import GridSearchCV\n",
        "\n",
        "log=LogisticRegression(max_iter=200)\n",
        "\n",
        "pram_grid={\n",
        "    'C':[0.001,0.01,0.1,1,10,100],\n",
        "    'penalty':['l1','l2'],\n",
        "\n",
        "}\n",
        "grid_search=GridSearchCV(log,pram_grid,cv=5,scoring='accuracy')\n",
        "results=grid_search.fit(X_train,y_train)\n",
        "print(results.best_params_)"
      ]
    },
    {
      "cell_type": "code",
      "execution_count": null,
      "metadata": {
        "id": "L1HBZUwY_bYc",
        "outputId": "83161c0f-ab6a-4bbb-e38e-653a4e446d65"
      },
      "outputs": [
        {
          "name": "stdout",
          "output_type": "stream",
          "text": [
            "              precision    recall  f1-score   support\n",
            "\n",
            "           0       0.78      0.90      0.84        99\n",
            "           1       0.75      0.55      0.63        55\n",
            "\n",
            "    accuracy                           0.77       154\n",
            "   macro avg       0.77      0.72      0.73       154\n",
            "weighted avg       0.77      0.77      0.76       154\n",
            "\n"
          ]
        }
      ],
      "source": [
        "from sklearn.linear_model import LogisticRegression\n",
        "\n",
        "log=LogisticRegression(max_iter=300,C=0.01,penalty='l2')\n",
        "log.fit(X_train,y_train)\n",
        "y_pred=log.predict(X_test)\n",
        "print(classification_report(y_test,y_pred))"
      ]
    },
    {
      "cell_type": "code",
      "execution_count": null,
      "metadata": {
        "id": "8oUNHDNe_bYd",
        "outputId": "6ee7337a-2ff1-4a2d-b4a8-94355acfda9a"
      },
      "outputs": [
        {
          "name": "stdout",
          "output_type": "stream",
          "text": [
            "{'metric': 'euclidean', 'n_neighbors': 30, 'weights': 'distance'}\n"
          ]
        }
      ],
      "source": [
        "knn=KNeighborsClassifier()\n",
        "param_grid={\n",
        "    'n_neighbors':np.arange(1,50),\n",
        "    'weights':['uniform', 'distance'],\n",
        "    'metric':['euclidean','cosine','infinity'],\n",
        "}\n",
        "grid_search=GridSearchCV(knn,param_grid,cv=5)\n",
        "result=grid_search.fit(X_train,y_train)\n",
        "print(result.best_params_)"
      ]
    },
    {
      "cell_type": "code",
      "execution_count": null,
      "metadata": {
        "id": "uJ0j3asx_bYd",
        "outputId": "328abf1a-61fe-4047-e37b-d1d121a09e04"
      },
      "outputs": [
        {
          "data": {
            "text/plain": [
              "27.712812921102035"
            ]
          },
          "execution_count": 69,
          "metadata": {},
          "output_type": "execute_result"
        }
      ],
      "source": [
        "math.sqrt(len(X))"
      ]
    },
    {
      "cell_type": "code",
      "execution_count": null,
      "metadata": {
        "id": "crn5Avr5_bYd",
        "outputId": "bee03070-33aa-46fa-e1d7-e494b7e4b172"
      },
      "outputs": [
        {
          "name": "stdout",
          "output_type": "stream",
          "text": [
            "              precision    recall  f1-score   support\n",
            "\n",
            "           0       0.78      0.90      0.84        99\n",
            "           1       0.75      0.55      0.63        55\n",
            "\n",
            "    accuracy                           0.77       154\n",
            "   macro avg       0.77      0.72      0.73       154\n",
            "weighted avg       0.77      0.77      0.76       154\n",
            "\n"
          ]
        }
      ],
      "source": [
        "knn=KNeighborsClassifier(n_neighbors=29,metric='euclidean',weights='distance')\n",
        "knn.fit(X_train,y_train)\n",
        "pred=knn.predict(X_test)\n",
        "print(classification_report(y_test,pred))"
      ]
    },
    {
      "cell_type": "code",
      "execution_count": null,
      "metadata": {
        "id": "gP-sMGBw_bYd"
      },
      "outputs": [],
      "source": []
    }
  ],
  "metadata": {
    "kernelspec": {
      "display_name": "Python 3",
      "language": "python",
      "name": "python3"
    },
    "language_info": {
      "codemirror_mode": {
        "name": "ipython",
        "version": 3
      },
      "file_extension": ".py",
      "mimetype": "text/x-python",
      "name": "python",
      "nbconvert_exporter": "python",
      "pygments_lexer": "ipython3",
      "version": "3.8.5"
    },
    "colab": {
      "provenance": [],
      "include_colab_link": true
    }
  },
  "nbformat": 4,
  "nbformat_minor": 0
}